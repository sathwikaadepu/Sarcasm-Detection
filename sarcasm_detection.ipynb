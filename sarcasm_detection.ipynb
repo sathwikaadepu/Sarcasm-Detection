{
 "cells": [
  {
   "cell_type": "code",
   "execution_count": 10,
   "metadata": {},
   "outputs": [],
   "source": [
    "# Importing some libraries\n",
    "import pandas as pd\n",
    "from sklearn.model_selection import train_test_split\n",
    "from sklearn.metrics import confusion_matrix\n",
    "from sklearn.svm import LinearSVC\n",
    "from sklearn.model_selection import cross_val_score\n",
    "import pickle\n",
    "from nltk.stem import PorterStemmer"
   ]
  },
  {
   "cell_type": "code",
   "execution_count": 11,
   "metadata": {},
   "outputs": [
    {
     "data": {
      "text/plain": [
       "headlines    139\n",
       "dtype: int64"
      ]
     },
     "execution_count": 11,
     "metadata": {},
     "output_type": "execute_result"
    }
   ],
   "source": [
    "# Loading data from json file\n",
    "data = pd.read_csv('dataset_f/timesofindia(1).csv')\n",
    "data.head()\n",
    "data.count()"
   ]
  },
  {
   "cell_type": "code",
   "execution_count": 12,
   "metadata": {},
   "outputs": [
    {
     "name": "stdout",
     "output_type": "stream",
     "text": [
      "False\n"
     ]
    },
    {
     "data": {
      "text/html": [
       "<div>\n",
       "<style scoped>\n",
       "    .dataframe tbody tr th:only-of-type {\n",
       "        vertical-align: middle;\n",
       "    }\n",
       "\n",
       "    .dataframe tbody tr th {\n",
       "        vertical-align: top;\n",
       "    }\n",
       "\n",
       "    .dataframe thead th {\n",
       "        text-align: right;\n",
       "    }\n",
       "</style>\n",
       "<table border=\"1\" class=\"dataframe\">\n",
       "  <thead>\n",
       "    <tr style=\"text-align: right;\">\n",
       "      <th></th>\n",
       "      <th>headlines</th>\n",
       "      <th>headline</th>\n",
       "    </tr>\n",
       "  </thead>\n",
       "  <tbody>\n",
       "    <tr>\n",
       "      <th>0</th>\n",
       "      <td>Tripura, Meghalaya, Nagaland election results:...</td>\n",
       "      <td>Tripura, Meghalaya, Nagaland election results:...</td>\n",
       "    </tr>\n",
       "    <tr>\n",
       "      <th>1</th>\n",
       "      <td>How Indian economy's future depends on your sh...</td>\n",
       "      <td>How Indian economy's future depends on your sh...</td>\n",
       "    </tr>\n",
       "    <tr>\n",
       "      <th>2</th>\n",
       "      <td>Congress decimated in Nagaland, Tripura and Me...</td>\n",
       "      <td>Congress decimated in Nagaland, Tripura and Me...</td>\n",
       "    </tr>\n",
       "    <tr>\n",
       "      <th>3</th>\n",
       "      <td>'Multilateralism in crisis': G20 meet ends wit...</td>\n",
       "      <td>'Multilateralism in crisis': G20 meet ends wit...</td>\n",
       "    </tr>\n",
       "    <tr>\n",
       "      <th>4</th>\n",
       "      <td>3rd Test: Lyon grabs eight; Australia need 76 ...</td>\n",
       "      <td>3rd Test: Lyon grabs eight; Australia need 76 ...</td>\n",
       "    </tr>\n",
       "  </tbody>\n",
       "</table>\n",
       "</div>"
      ],
      "text/plain": [
       "                                           headlines  \\\n",
       "0  Tripura, Meghalaya, Nagaland election results:...   \n",
       "1  How Indian economy's future depends on your sh...   \n",
       "2  Congress decimated in Nagaland, Tripura and Me...   \n",
       "3  'Multilateralism in crisis': G20 meet ends wit...   \n",
       "4  3rd Test: Lyon grabs eight; Australia need 76 ...   \n",
       "\n",
       "                                            headline  \n",
       "0  Tripura, Meghalaya, Nagaland election results:...  \n",
       "1  How Indian economy's future depends on your sh...  \n",
       "2  Congress decimated in Nagaland, Tripura and Me...  \n",
       "3  'Multilateralism in crisis': G20 meet ends wit...  \n",
       "4  3rd Test: Lyon grabs eight; Australia need 76 ...  "
      ]
     },
     "execution_count": 12,
     "metadata": {},
     "output_type": "execute_result"
    }
   ],
   "source": [
    "# Checking null values in headline column\n",
    "data['headline'] = data['headlines']\n",
    "print(data['headline'].isnull().any())\n",
    "data.head()"
   ]
  },
  {
   "cell_type": "code",
   "execution_count": 13,
   "metadata": {},
   "outputs": [
    {
     "ename": "KeyError",
     "evalue": "'is_sarcastic'",
     "output_type": "error",
     "traceback": [
      "\u001b[1;31m---------------------------------------------------------------------------\u001b[0m",
      "\u001b[1;31mKeyError\u001b[0m                                  Traceback (most recent call last)",
      "File \u001b[1;32mc:\\Users\\Hp\\.conda\\envs\\tensorflow_1\\lib\\site-packages\\pandas\\core\\indexes\\base.py:3803\u001b[0m, in \u001b[0;36mIndex.get_loc\u001b[1;34m(self, key, method, tolerance)\u001b[0m\n\u001b[0;32m   3802\u001b[0m \u001b[39mtry\u001b[39;00m:\n\u001b[1;32m-> 3803\u001b[0m     \u001b[39mreturn\u001b[39;00m \u001b[39mself\u001b[39;49m\u001b[39m.\u001b[39;49m_engine\u001b[39m.\u001b[39;49mget_loc(casted_key)\n\u001b[0;32m   3804\u001b[0m \u001b[39mexcept\u001b[39;00m \u001b[39mKeyError\u001b[39;00m \u001b[39mas\u001b[39;00m err:\n",
      "File \u001b[1;32mc:\\Users\\Hp\\.conda\\envs\\tensorflow_1\\lib\\site-packages\\pandas\\_libs\\index.pyx:138\u001b[0m, in \u001b[0;36mpandas._libs.index.IndexEngine.get_loc\u001b[1;34m()\u001b[0m\n",
      "File \u001b[1;32mc:\\Users\\Hp\\.conda\\envs\\tensorflow_1\\lib\\site-packages\\pandas\\_libs\\index.pyx:165\u001b[0m, in \u001b[0;36mpandas._libs.index.IndexEngine.get_loc\u001b[1;34m()\u001b[0m\n",
      "File \u001b[1;32mpandas\\_libs\\hashtable_class_helper.pxi:5745\u001b[0m, in \u001b[0;36mpandas._libs.hashtable.PyObjectHashTable.get_item\u001b[1;34m()\u001b[0m\n",
      "File \u001b[1;32mpandas\\_libs\\hashtable_class_helper.pxi:5753\u001b[0m, in \u001b[0;36mpandas._libs.hashtable.PyObjectHashTable.get_item\u001b[1;34m()\u001b[0m\n",
      "\u001b[1;31mKeyError\u001b[0m: 'is_sarcastic'",
      "\nThe above exception was the direct cause of the following exception:\n",
      "\u001b[1;31mKeyError\u001b[0m                                  Traceback (most recent call last)",
      "Cell \u001b[1;32mIn[13], line 3\u001b[0m\n\u001b[0;32m      1\u001b[0m \u001b[39m# getting features and labels\u001b[39;00m\n\u001b[0;32m      2\u001b[0m features \u001b[39m=\u001b[39m data[\u001b[39m'\u001b[39m\u001b[39mheadline\u001b[39m\u001b[39m'\u001b[39m]\n\u001b[1;32m----> 3\u001b[0m labels \u001b[39m=\u001b[39m data[\u001b[39m'\u001b[39;49m\u001b[39mis_sarcastic\u001b[39;49m\u001b[39m'\u001b[39;49m]\n",
      "File \u001b[1;32mc:\\Users\\Hp\\.conda\\envs\\tensorflow_1\\lib\\site-packages\\pandas\\core\\frame.py:3805\u001b[0m, in \u001b[0;36mDataFrame.__getitem__\u001b[1;34m(self, key)\u001b[0m\n\u001b[0;32m   3803\u001b[0m \u001b[39mif\u001b[39;00m \u001b[39mself\u001b[39m\u001b[39m.\u001b[39mcolumns\u001b[39m.\u001b[39mnlevels \u001b[39m>\u001b[39m \u001b[39m1\u001b[39m:\n\u001b[0;32m   3804\u001b[0m     \u001b[39mreturn\u001b[39;00m \u001b[39mself\u001b[39m\u001b[39m.\u001b[39m_getitem_multilevel(key)\n\u001b[1;32m-> 3805\u001b[0m indexer \u001b[39m=\u001b[39m \u001b[39mself\u001b[39;49m\u001b[39m.\u001b[39;49mcolumns\u001b[39m.\u001b[39;49mget_loc(key)\n\u001b[0;32m   3806\u001b[0m \u001b[39mif\u001b[39;00m is_integer(indexer):\n\u001b[0;32m   3807\u001b[0m     indexer \u001b[39m=\u001b[39m [indexer]\n",
      "File \u001b[1;32mc:\\Users\\Hp\\.conda\\envs\\tensorflow_1\\lib\\site-packages\\pandas\\core\\indexes\\base.py:3805\u001b[0m, in \u001b[0;36mIndex.get_loc\u001b[1;34m(self, key, method, tolerance)\u001b[0m\n\u001b[0;32m   3803\u001b[0m     \u001b[39mreturn\u001b[39;00m \u001b[39mself\u001b[39m\u001b[39m.\u001b[39m_engine\u001b[39m.\u001b[39mget_loc(casted_key)\n\u001b[0;32m   3804\u001b[0m \u001b[39mexcept\u001b[39;00m \u001b[39mKeyError\u001b[39;00m \u001b[39mas\u001b[39;00m err:\n\u001b[1;32m-> 3805\u001b[0m     \u001b[39mraise\u001b[39;00m \u001b[39mKeyError\u001b[39;00m(key) \u001b[39mfrom\u001b[39;00m \u001b[39merr\u001b[39;00m\n\u001b[0;32m   3806\u001b[0m \u001b[39mexcept\u001b[39;00m \u001b[39mTypeError\u001b[39;00m:\n\u001b[0;32m   3807\u001b[0m     \u001b[39m# If we have a listlike key, _check_indexing_error will raise\u001b[39;00m\n\u001b[0;32m   3808\u001b[0m     \u001b[39m#  InvalidIndexError. Otherwise we fall through and re-raise\u001b[39;00m\n\u001b[0;32m   3809\u001b[0m     \u001b[39m#  the TypeError.\u001b[39;00m\n\u001b[0;32m   3810\u001b[0m     \u001b[39mself\u001b[39m\u001b[39m.\u001b[39m_check_indexing_error(key)\n",
      "\u001b[1;31mKeyError\u001b[0m: 'is_sarcastic'"
     ]
    }
   ],
   "source": [
    "# getting features and labels\n",
    "features = data['headline']\n",
    "labels = data['is_sarcastic']"
   ]
  },
  {
   "cell_type": "code",
   "execution_count": null,
   "metadata": {},
   "outputs": [],
   "source": [
    "# Stemming our data\n",
    "ps = PorterStemmer()\n",
    "\n",
    "features = features.apply(lambda x: x.split())\n",
    "features = features.apply(lambda x : ' '.join([ps.stem(word) for word in x]))"
   ]
  },
  {
   "cell_type": "code",
   "execution_count": null,
   "metadata": {},
   "outputs": [],
   "source": [
    "df_2 = pd.read_csv('C:/Users/Hp/Documents/vscode_folder/major_project_part2/dataset_f/india-news-headlines.csv')\n",
    "df_21 = df_2.copy()\n",
    "df_2.drop('publish_date',inplace=True, axis = 1)\n",
    "df_2.drop('headline_category',inplace = True, axis = 1)"
   ]
  },
  {
   "cell_type": "code",
   "execution_count": null,
   "metadata": {},
   "outputs": [
    {
     "name": "stdout",
     "output_type": "stream",
     "text": [
      "0        Status quo will not be disturbed at Ayodhya; s...\n",
      "1                      Fissures in Hurriyat over Pak visit\n",
      "2                    America's unwanted heading for India?\n",
      "3                       For bigwigs; it is destination Goa\n",
      "4                     Extra buses to clear tourist traffic\n",
      "                               ...                        \n",
      "28614                                  Force comes to town\n",
      "28615                    Happy puts sleuths on Nepal trail\n",
      "28616                          Toy train ride to be costly\n",
      "28617               Of war and peace and television images\n",
      "28618            Musharraf briefs US envoy on Pak response\n",
      "Name: headline_text, Length: 28619, dtype: object\n",
      "##############\n",
      "3622351    BSP announces names on all 22 seats of Prayagr...\n",
      "3622352    Over 1 crore devotees take holy dip on Mauni A...\n",
      "3622353                   Police team attacked in Pratapgarh\n",
      "3622354         Nomination begins in Prayagraj for 5th phase\n",
      "3622355    Shops vacated; 60-yr-old building to be demoli...\n",
      "                                 ...                        \n",
      "3650965    J&K sacks 2 cops; 3 other employees over terro...\n",
      "3650966    Ranbir Kapoor says 'Rishi Kapoor enjoyed his a...\n",
      "3650967    As Covid-19 cases drop to nil in southern dist...\n",
      "3650968    Tamil Nadu sees marginal rise of Covid cases w...\n",
      "3650969    Tamil Nadu sees marginal rise of Covid cases w...\n",
      "Name: headline_text, Length: 28619, dtype: object\n"
     ]
    }
   ],
   "source": [
    "df3 = df_2['headline_text'].head(28619)\n",
    "print(df3)\n",
    "print(\"##############\")\n",
    "df4 = df_2['headline_text'].tail(28619)\n",
    "print(df4)"
   ]
  },
  {
   "cell_type": "code",
   "execution_count": null,
   "metadata": {},
   "outputs": [
    {
     "name": "stdout",
     "output_type": "stream",
     "text": [
      "0          Status quo will not be disturbed at Ayodhya; s...\n",
      "1                        Fissures in Hurriyat over Pak visit\n",
      "2                      America's unwanted heading for India?\n",
      "3                         For bigwigs; it is destination Goa\n",
      "4                       Extra buses to clear tourist traffic\n",
      "                                 ...                        \n",
      "3650965    J&K sacks 2 cops; 3 other employees over terro...\n",
      "3650966    Ranbir Kapoor says 'Rishi Kapoor enjoyed his a...\n",
      "3650967    As Covid-19 cases drop to nil in southern dist...\n",
      "3650968    Tamil Nadu sees marginal rise of Covid cases w...\n",
      "3650969    Tamil Nadu sees marginal rise of Covid cases w...\n",
      "Name: headline_text, Length: 57238, dtype: object\n"
     ]
    }
   ],
   "source": [
    "frames = [df3,df4]\n",
    "df5 = pd.concat(frames)\n",
    "print(df5)"
   ]
  },
  {
   "cell_type": "code",
   "execution_count": null,
   "metadata": {},
   "outputs": [
    {
     "name": "stdout",
     "output_type": "stream",
     "text": [
      "3650970\n"
     ]
    }
   ],
   "source": [
    "print(len(docs))"
   ]
  },
  {
   "cell_type": "code",
   "execution_count": null,
   "metadata": {},
   "outputs": [
    {
     "name": "stdout",
     "output_type": "stream",
     "text": [
      "Parivar dismisses PM's warning\n",
      "India; Pak exchange lists of N-plants\n",
      "Will Qureshi's return really help the govt?\n",
      "PM's tacit message: Put Ram tample on hold\n",
      "Text of the Prime Minister's article\n",
      "NCW to focus on violence against women\n",
      "BBC's reality TV will focus on AIIMS\n",
      "Jaitley firm on legal reforms\n",
      "Hoshangabad farmers have enough water\n",
      "BJP jumps into rail track conversion issue\n",
      "America's unwanted heading for India?\n",
      "State may take AP to court over Krishna\n",
      "This official has sued the briber\n",
      "Park turns temple compound as residents watch\n",
      "Moves afoot to evict squatters in Urban dist\n",
      "Mafia calls the shots in Gandhinagar too\n",
      "Status quo will not be disturbed at Ayodhya; says Vajpayee\n",
      "Fissures in Hurriyat over Pak visit\n",
      "America's unwanted heading for India?\n",
      "For bigwigs; it is destination Goa\n",
      "Extra buses to clear tourist traffic\n",
      "Dilute the power of transfers; says Riberio\n",
      "Focus shifts to teaching of Hindi\n",
      "IT will become compulsory in schools\n",
      "Move to stop freedom fighters' pension flayed\n",
      "Gilani claims he applied for passport 2 years ago\n",
      "Parivar dismisses PM's warning\n",
      "India; Pak exchange lists of N-plants\n",
      "Will Qureshi's return really help the govt?\n",
      "PM's tacit message: Put Ram tample on hold\n",
      "Text of the Prime Minister's article\n"
     ]
    }
   ],
   "source": [
    "for i in range(10,41):\n",
    "    print(docs[i])"
   ]
  }
 ],
 "metadata": {
  "kernelspec": {
   "display_name": "tensorflow_1",
   "language": "python",
   "name": "python3"
  },
  "language_info": {
   "codemirror_mode": {
    "name": "ipython",
    "version": 3
   },
   "file_extension": ".py",
   "mimetype": "text/x-python",
   "name": "python",
   "nbconvert_exporter": "python",
   "pygments_lexer": "ipython3",
   "version": "3.8.13"
  },
  "orig_nbformat": 4,
  "vscode": {
   "interpreter": {
    "hash": "2ab3fbf90f46decc18fbb709b44f73496ac451bcf2c85f3c988107c2733ba532"
   }
  }
 },
 "nbformat": 4,
 "nbformat_minor": 2
}
